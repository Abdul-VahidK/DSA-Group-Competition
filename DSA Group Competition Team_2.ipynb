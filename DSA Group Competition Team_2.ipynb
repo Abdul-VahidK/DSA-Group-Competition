{
 "cells": [
  {
   "cell_type": "markdown",
   "id": "ac1c0c77",
   "metadata": {},
   "source": [
    "# Domain: Sports\n",
    "    \n",
    "# Online Chess Data Analysis and Winner Prediction Model\n",
    "Data for 20,000+ chess games played on Lichess, including moves, victory, rating, opening details and more."
   ]
  },
  {
   "cell_type": "markdown",
   "id": "626bf107",
   "metadata": {},
   "source": [
    "|No.|Feature|Details|\n",
    "|-|-|-|\n",
    "|1.|game_id|Number of games taken in the data set|\n",
    "|2.|rated|whether the game is rated or not|\n",
    "|3.|turns|number of moves played by the winner|\n",
    "|4.|victory_status|whether the game was won by placing a checkmate or due to running out of time, or when one of the player withdrawn due to some other reasons or whether the game ended in a draw|\n",
    "|5.|winner|The color of the coins chosen by the person who won the game (Target column)|\n",
    "|6.|time_increment|extra time obtained in the game|\n",
    "|7.|white_id|The name of player with white move|\n",
    "|8.|white_rating|Shows whether the player who has chosen white is a beginner, average player, master etc .eg: rating between 1200-1399 shows that the player is a beginner, 1400-1599 : average player, 2200-2399:Master etc|\n",
    "|9.|black_id|The name of player with black move|\n",
    "|10.|black_rating|Decides the level of the player who choose black coins|\n",
    "|11.|moves|Moves & counter moves opted by the players|\n",
    "|12.|opening_code|It provides the most common system for categorizing all chess openings.Despite having only 500 codes (from A00-E99), the system does a good job of segmenting openings. These codes help to organize chess games and openings, especially in game databases|\n",
    "|13.|Opening_moves|Number of moves in the opening phase of the game where you decide how to develop your pieces and place your pawns. It usually lasts in 8-12 moves.The first moves of a chess game are termed the \"opening\" or \"opening moves\". A good opening will provide better protection of the King, control over an area of the board (particularly the center), greater mobility for pieces, and possibly opportunities to capture opposing pawns and pieces|\n",
    "|14.|Opening_fullname|Chess openings are named after some place/city where it was played first or named after a person who first played it or sometimes even named after some animals and even some weird names which don’t make any sense, are given for some openings|\n",
    "|15.|Opening_shortname|The short name of the opening full name|\n",
    "|16.|Opening_response|counter move given by the player with respect to the opening moves|\n",
    "|17.|Opening_variation|Used to describe a branch of another named opening, for example the Najdorf Variation, a line of the Sicilian Defense|"
   ]
  },
  {
   "cell_type": "code",
   "execution_count": 1,
   "id": "72d7cc94",
   "metadata": {},
   "outputs": [
    {
     "ename": "ModuleNotFoundError",
     "evalue": "No module named 'plotly_express'",
     "output_type": "error",
     "traceback": [
      "\u001b[1;31m---------------------------------------------------------------------------\u001b[0m",
      "\u001b[1;31mModuleNotFoundError\u001b[0m                       Traceback (most recent call last)",
      "\u001b[1;32m<ipython-input-1-3656d860ee21>\u001b[0m in \u001b[0;36m<module>\u001b[1;34m\u001b[0m\n\u001b[0;32m      5\u001b[0m \u001b[1;32mimport\u001b[0m \u001b[0mwarnings\u001b[0m\u001b[1;33m\u001b[0m\u001b[1;33m\u001b[0m\u001b[0m\n\u001b[0;32m      6\u001b[0m \u001b[0mwarnings\u001b[0m\u001b[1;33m.\u001b[0m\u001b[0mfilterwarnings\u001b[0m\u001b[1;33m(\u001b[0m\u001b[1;34m'ignore'\u001b[0m\u001b[1;33m)\u001b[0m\u001b[1;33m\u001b[0m\u001b[1;33m\u001b[0m\u001b[0m\n\u001b[1;32m----> 7\u001b[1;33m \u001b[1;32mimport\u001b[0m \u001b[0mplotly_express\u001b[0m \u001b[1;32mas\u001b[0m \u001b[0mpx\u001b[0m \u001b[1;31m# interactive data visualization library\u001b[0m\u001b[1;33m\u001b[0m\u001b[1;33m\u001b[0m\u001b[0m\n\u001b[0m",
      "\u001b[1;31mModuleNotFoundError\u001b[0m: No module named 'plotly_express'"
     ]
    }
   ],
   "source": [
    "import pandas as pd\n",
    "import numpy as np\n",
    "import matplotlib.pyplot as plt\n",
    "import seaborn as sns\n",
    "import warnings\n",
    "warnings.filterwarnings('ignore')\n",
    "import plotly_express as px # interactive data visualization library"
   ]
  },
  {
   "cell_type": "markdown",
   "id": "6877aae4",
   "metadata": {},
   "source": [
    "# 1: Data Collection and Reading"
   ]
  },
  {
   "cell_type": "code",
   "execution_count": 3,
   "id": "085e1b65",
   "metadata": {},
   "outputs": [
    {
     "data": {
      "text/html": [
       "<div>\n",
       "<style scoped>\n",
       "    .dataframe tbody tr th:only-of-type {\n",
       "        vertical-align: middle;\n",
       "    }\n",
       "\n",
       "    .dataframe tbody tr th {\n",
       "        vertical-align: top;\n",
       "    }\n",
       "\n",
       "    .dataframe thead th {\n",
       "        text-align: right;\n",
       "    }\n",
       "</style>\n",
       "<table border=\"1\" class=\"dataframe\">\n",
       "  <thead>\n",
       "    <tr style=\"text-align: right;\">\n",
       "      <th></th>\n",
       "      <th>game_id</th>\n",
       "      <th>rated</th>\n",
       "      <th>turns</th>\n",
       "      <th>victory_status</th>\n",
       "      <th>winner</th>\n",
       "      <th>time_increment</th>\n",
       "      <th>white_id</th>\n",
       "      <th>white_rating</th>\n",
       "      <th>black_id</th>\n",
       "      <th>black_rating</th>\n",
       "      <th>moves</th>\n",
       "      <th>opening_code</th>\n",
       "      <th>opening_moves</th>\n",
       "      <th>opening_fullname</th>\n",
       "      <th>opening_shortname</th>\n",
       "      <th>opening_response</th>\n",
       "      <th>opening_variation</th>\n",
       "    </tr>\n",
       "  </thead>\n",
       "  <tbody>\n",
       "    <tr>\n",
       "      <th>0</th>\n",
       "      <td>1</td>\n",
       "      <td>False</td>\n",
       "      <td>13</td>\n",
       "      <td>Out of Time</td>\n",
       "      <td>White</td>\n",
       "      <td>15+2</td>\n",
       "      <td>bourgris</td>\n",
       "      <td>1500</td>\n",
       "      <td>a-00</td>\n",
       "      <td>1191</td>\n",
       "      <td>d4 d5 c4 c6 cxd5 e6 dxe6 fxe6 Nf3 Bb4+ Nc3 Ba5...</td>\n",
       "      <td>D10</td>\n",
       "      <td>5</td>\n",
       "      <td>Slav Defense: Exchange Variation</td>\n",
       "      <td>Slav Defense</td>\n",
       "      <td>NaN</td>\n",
       "      <td>Exchange Variation</td>\n",
       "    </tr>\n",
       "    <tr>\n",
       "      <th>1</th>\n",
       "      <td>2</td>\n",
       "      <td>True</td>\n",
       "      <td>16</td>\n",
       "      <td>Resign</td>\n",
       "      <td>Black</td>\n",
       "      <td>5+10</td>\n",
       "      <td>a-00</td>\n",
       "      <td>1322</td>\n",
       "      <td>skinnerua</td>\n",
       "      <td>1261</td>\n",
       "      <td>d4 Nc6 e4 e5 f4 f6 dxe5 fxe5 fxe5 Nxe5 Qd4 Nc6...</td>\n",
       "      <td>B00</td>\n",
       "      <td>4</td>\n",
       "      <td>Nimzowitsch Defense: Kennedy Variation</td>\n",
       "      <td>Nimzowitsch Defense</td>\n",
       "      <td>NaN</td>\n",
       "      <td>Kennedy Variation</td>\n",
       "    </tr>\n",
       "  </tbody>\n",
       "</table>\n",
       "</div>"
      ],
      "text/plain": [
       "   game_id  rated  turns victory_status winner time_increment  white_id  \\\n",
       "0        1  False     13    Out of Time  White           15+2  bourgris   \n",
       "1        2   True     16         Resign  Black           5+10      a-00   \n",
       "\n",
       "   white_rating   black_id  black_rating  \\\n",
       "0          1500       a-00          1191   \n",
       "1          1322  skinnerua          1261   \n",
       "\n",
       "                                               moves opening_code  \\\n",
       "0  d4 d5 c4 c6 cxd5 e6 dxe6 fxe6 Nf3 Bb4+ Nc3 Ba5...          D10   \n",
       "1  d4 Nc6 e4 e5 f4 f6 dxe5 fxe5 fxe5 Nxe5 Qd4 Nc6...          B00   \n",
       "\n",
       "   opening_moves                        opening_fullname    opening_shortname  \\\n",
       "0              5        Slav Defense: Exchange Variation         Slav Defense   \n",
       "1              4  Nimzowitsch Defense: Kennedy Variation  Nimzowitsch Defense   \n",
       "\n",
       "  opening_response   opening_variation  \n",
       "0              NaN  Exchange Variation  \n",
       "1              NaN   Kennedy Variation  "
      ]
     },
     "execution_count": 3,
     "metadata": {},
     "output_type": "execute_result"
    }
   ],
   "source": [
    "dt = pd.read_csv('chess_games.csv')\n",
    "dt.head(2)"
   ]
  },
  {
   "cell_type": "code",
   "execution_count": 4,
   "id": "4f2ab9d4",
   "metadata": {},
   "outputs": [
    {
     "name": "stdout",
     "output_type": "stream",
     "text": [
      "<class 'pandas.core.frame.DataFrame'>\n",
      "RangeIndex: 20058 entries, 0 to 20057\n",
      "Data columns (total 17 columns):\n",
      " #   Column             Non-Null Count  Dtype \n",
      "---  ------             --------------  ----- \n",
      " 0   game_id            20058 non-null  int64 \n",
      " 1   rated              20058 non-null  bool  \n",
      " 2   turns              20058 non-null  int64 \n",
      " 3   victory_status     20058 non-null  object\n",
      " 4   winner             20058 non-null  object\n",
      " 5   time_increment     20058 non-null  object\n",
      " 6   white_id           20058 non-null  object\n",
      " 7   white_rating       20058 non-null  int64 \n",
      " 8   black_id           20058 non-null  object\n",
      " 9   black_rating       20058 non-null  int64 \n",
      " 10  moves              20058 non-null  object\n",
      " 11  opening_code       20058 non-null  object\n",
      " 12  opening_moves      20058 non-null  int64 \n",
      " 13  opening_fullname   20058 non-null  object\n",
      " 14  opening_shortname  20058 non-null  object\n",
      " 15  opening_response   1207 non-null   object\n",
      " 16  opening_variation  14398 non-null  object\n",
      "dtypes: bool(1), int64(5), object(11)\n",
      "memory usage: 2.5+ MB\n"
     ]
    }
   ],
   "source": [
    "dt.info()"
   ]
  },
  {
   "cell_type": "markdown",
   "id": "77ddca0e",
   "metadata": {},
   "source": [
    "#### Data description:\n",
    "\n",
    "- Dataset is about an online chess game and the details of each games.\n",
    "- Data of 20,058 online chess games.\n",
    "- 17 column values or features for each chess games.\n",
    "- 2 features have null values.\n",
    "- Contains 3 types of data: Boolean, Object and int."
   ]
  },
  {
   "cell_type": "markdown",
   "id": "760e66c2",
   "metadata": {},
   "source": [
    "# 2: Pre-Processing"
   ]
  },
  {
   "cell_type": "code",
   "execution_count": 5,
   "id": "b0695e32",
   "metadata": {},
   "outputs": [
    {
     "data": {
      "text/plain": [
       "20058"
      ]
     },
     "execution_count": 5,
     "metadata": {},
     "output_type": "execute_result"
    }
   ],
   "source": [
    "# We can change the index column to game_id column, because it contain 20058 unique values, which is same as the no. of rows.\n",
    "\n",
    "dt.game_id.nunique()"
   ]
  },
  {
   "cell_type": "code",
   "execution_count": 6,
   "id": "dbdf9027",
   "metadata": {},
   "outputs": [
    {
     "data": {
      "text/html": [
       "<div>\n",
       "<style scoped>\n",
       "    .dataframe tbody tr th:only-of-type {\n",
       "        vertical-align: middle;\n",
       "    }\n",
       "\n",
       "    .dataframe tbody tr th {\n",
       "        vertical-align: top;\n",
       "    }\n",
       "\n",
       "    .dataframe thead th {\n",
       "        text-align: right;\n",
       "    }\n",
       "</style>\n",
       "<table border=\"1\" class=\"dataframe\">\n",
       "  <thead>\n",
       "    <tr style=\"text-align: right;\">\n",
       "      <th></th>\n",
       "      <th>rated</th>\n",
       "      <th>turns</th>\n",
       "      <th>victory_status</th>\n",
       "      <th>winner</th>\n",
       "      <th>time_increment</th>\n",
       "      <th>white_id</th>\n",
       "      <th>white_rating</th>\n",
       "      <th>black_id</th>\n",
       "      <th>black_rating</th>\n",
       "      <th>moves</th>\n",
       "      <th>opening_code</th>\n",
       "      <th>opening_moves</th>\n",
       "      <th>opening_fullname</th>\n",
       "      <th>opening_shortname</th>\n",
       "      <th>opening_response</th>\n",
       "      <th>opening_variation</th>\n",
       "    </tr>\n",
       "    <tr>\n",
       "      <th>game_id</th>\n",
       "      <th></th>\n",
       "      <th></th>\n",
       "      <th></th>\n",
       "      <th></th>\n",
       "      <th></th>\n",
       "      <th></th>\n",
       "      <th></th>\n",
       "      <th></th>\n",
       "      <th></th>\n",
       "      <th></th>\n",
       "      <th></th>\n",
       "      <th></th>\n",
       "      <th></th>\n",
       "      <th></th>\n",
       "      <th></th>\n",
       "      <th></th>\n",
       "    </tr>\n",
       "  </thead>\n",
       "  <tbody>\n",
       "    <tr>\n",
       "      <th>1</th>\n",
       "      <td>False</td>\n",
       "      <td>13</td>\n",
       "      <td>Out of Time</td>\n",
       "      <td>White</td>\n",
       "      <td>15+2</td>\n",
       "      <td>bourgris</td>\n",
       "      <td>1500</td>\n",
       "      <td>a-00</td>\n",
       "      <td>1191</td>\n",
       "      <td>d4 d5 c4 c6 cxd5 e6 dxe6 fxe6 Nf3 Bb4+ Nc3 Ba5...</td>\n",
       "      <td>D10</td>\n",
       "      <td>5</td>\n",
       "      <td>Slav Defense: Exchange Variation</td>\n",
       "      <td>Slav Defense</td>\n",
       "      <td>NaN</td>\n",
       "      <td>Exchange Variation</td>\n",
       "    </tr>\n",
       "    <tr>\n",
       "      <th>2</th>\n",
       "      <td>True</td>\n",
       "      <td>16</td>\n",
       "      <td>Resign</td>\n",
       "      <td>Black</td>\n",
       "      <td>5+10</td>\n",
       "      <td>a-00</td>\n",
       "      <td>1322</td>\n",
       "      <td>skinnerua</td>\n",
       "      <td>1261</td>\n",
       "      <td>d4 Nc6 e4 e5 f4 f6 dxe5 fxe5 fxe5 Nxe5 Qd4 Nc6...</td>\n",
       "      <td>B00</td>\n",
       "      <td>4</td>\n",
       "      <td>Nimzowitsch Defense: Kennedy Variation</td>\n",
       "      <td>Nimzowitsch Defense</td>\n",
       "      <td>NaN</td>\n",
       "      <td>Kennedy Variation</td>\n",
       "    </tr>\n",
       "  </tbody>\n",
       "</table>\n",
       "</div>"
      ],
      "text/plain": [
       "         rated  turns victory_status winner time_increment  white_id  \\\n",
       "game_id                                                                \n",
       "1        False     13    Out of Time  White           15+2  bourgris   \n",
       "2         True     16         Resign  Black           5+10      a-00   \n",
       "\n",
       "         white_rating   black_id  black_rating  \\\n",
       "game_id                                          \n",
       "1                1500       a-00          1191   \n",
       "2                1322  skinnerua          1261   \n",
       "\n",
       "                                                     moves opening_code  \\\n",
       "game_id                                                                   \n",
       "1        d4 d5 c4 c6 cxd5 e6 dxe6 fxe6 Nf3 Bb4+ Nc3 Ba5...          D10   \n",
       "2        d4 Nc6 e4 e5 f4 f6 dxe5 fxe5 fxe5 Nxe5 Qd4 Nc6...          B00   \n",
       "\n",
       "         opening_moves                        opening_fullname  \\\n",
       "game_id                                                          \n",
       "1                    5        Slav Defense: Exchange Variation   \n",
       "2                    4  Nimzowitsch Defense: Kennedy Variation   \n",
       "\n",
       "           opening_shortname opening_response   opening_variation  \n",
       "game_id                                                            \n",
       "1               Slav Defense              NaN  Exchange Variation  \n",
       "2        Nimzowitsch Defense              NaN   Kennedy Variation  "
      ]
     },
     "execution_count": 6,
     "metadata": {},
     "output_type": "execute_result"
    }
   ],
   "source": [
    "dt.set_index('game_id',inplace=True)\n",
    "dt.head(2)"
   ]
  },
  {
   "cell_type": "markdown",
   "id": "5466ce74",
   "metadata": {},
   "source": [
    "# 2.1: Missing Value Handling"
   ]
  },
  {
   "cell_type": "code",
   "execution_count": 7,
   "id": "b3399ba4",
   "metadata": {},
   "outputs": [
    {
     "data": {
      "text/plain": [
       "rated                    0\n",
       "turns                    0\n",
       "victory_status           0\n",
       "winner                   0\n",
       "time_increment           0\n",
       "white_id                 0\n",
       "white_rating             0\n",
       "black_id                 0\n",
       "black_rating             0\n",
       "moves                    0\n",
       "opening_code             0\n",
       "opening_moves            0\n",
       "opening_fullname         0\n",
       "opening_shortname        0\n",
       "opening_response     18851\n",
       "opening_variation     5660\n",
       "dtype: int64"
      ]
     },
     "execution_count": 7,
     "metadata": {},
     "output_type": "execute_result"
    }
   ],
   "source": [
    "dt.isna().sum()"
   ]
  },
  {
   "cell_type": "markdown",
   "id": "7de10824",
   "metadata": {},
   "source": [
    "#### Findings:\n",
    "\n",
    "- We can see last two columns have null values.\n",
    "- Both of them are object type.\n",
    "- 'opening_response' column have 18,851 null values, which is more than 50% of the total entries. so we can drop that column.\n",
    "- 'opening_varition' column can be filled with mode."
   ]
  },
  {
   "cell_type": "code",
   "execution_count": 8,
   "id": "543cd436",
   "metadata": {},
   "outputs": [
    {
     "data": {
      "text/plain": [
       "rated                0\n",
       "turns                0\n",
       "victory_status       0\n",
       "winner               0\n",
       "time_increment       0\n",
       "white_id             0\n",
       "white_rating         0\n",
       "black_id             0\n",
       "black_rating         0\n",
       "moves                0\n",
       "opening_code         0\n",
       "opening_moves        0\n",
       "opening_fullname     0\n",
       "opening_shortname    0\n",
       "opening_variation    0\n",
       "dtype: int64"
      ]
     },
     "execution_count": 8,
     "metadata": {},
     "output_type": "execute_result"
    }
   ],
   "source": [
    "dt.drop('opening_response', axis=1, inplace=True)\n",
    "dt['opening_variation'].fillna(dt['opening_variation'].mode()[0],inplace=True)\n",
    "\n",
    "dt.isna().sum()"
   ]
  },
  {
   "cell_type": "code",
   "execution_count": 9,
   "id": "8afe963f",
   "metadata": {},
   "outputs": [
    {
     "data": {
      "text/plain": [
       "(20058, 15)"
      ]
     },
     "execution_count": 9,
     "metadata": {},
     "output_type": "execute_result"
    }
   ],
   "source": [
    "dt.shape"
   ]
  },
  {
   "cell_type": "markdown",
   "id": "502b86c8",
   "metadata": {},
   "source": [
    "# 2.2: Outlier Detection and Handling"
   ]
  },
  {
   "cell_type": "code",
   "execution_count": 14,
   "id": "63a7f672",
   "metadata": {},
   "outputs": [
    {
     "data": {
      "text/plain": [
       "<function matplotlib.pyplot.show(close=None, block=None)>"
      ]
     },
     "execution_count": 14,
     "metadata": {},
     "output_type": "execute_result"
    },
    {
     "data": {
      "image/png": "[encoded data removed]",
      "text/plain": [
       "<Figure size 432x288 with 1 Axes>"
      ]
     },
     "metadata": {
      "needs_background": "light"
     },
     "output_type": "display_data"
    }
   ],
   "source": [
    "sns.boxplot(data=dt,orient='h')\n",
    "plt.show"
   ]
  },
  {
   "cell_type": "code",
   "execution_count": 15,
   "id": "dcf669d0",
   "metadata": {},
   "outputs": [
    {
     "data": {
      "text/plain": [
       "True     16155\n",
       "False     3903\n",
       "Name: rated, dtype: int64"
      ]
     },
     "execution_count": 15,
     "metadata": {},
     "output_type": "execute_result"
    }
   ],
   "source": [
    "dt.rated.value_counts()"
   ]
  },
  {
   "cell_type": "markdown",
   "id": "4701698b",
   "metadata": {},
   "source": [
    "#### Findings:\n",
    "\n",
    "- Rated column ins a boolean type contain two values false and true, so that it doesn't contain any valid outliers.\n",
    "- Remaining 3 columns can handled for ouliers removal."
   ]
  },
  {
   "cell_type": "code",
   "execution_count": 16,
   "id": "19d39e02",
   "metadata": {},
   "outputs": [
    {
     "name": "stdout",
     "output_type": "stream",
     "text": [
      "Handling Outliers in TURNS COLUMN: \n",
      "\n",
      "The values below -26.0 and above 142.0 are outliers.\n",
      "There are 428 outliers in turns column.\n",
      "Shape of dataset after removal of outliers in TURNS column: (19630, 15) \n",
      "\n",
      "\n",
      "Handling Outliers in WHITE_RATING COLUMN: \n",
      "\n",
      "The values below 804.0 and above 2380.0 are outliers.\n",
      "There are 131 outliers in white_rating column.\n",
      "Shape of dataset after removal of outliers in WHITE_RATING column: (19506, 15) \n",
      "\n",
      "\n",
      "Handling Outliers in BLACK_RATING COLUMN: \n",
      "\n",
      "The values below 803.0 and above 2363.0 are outliers.\n",
      "There are 87 outliers in black_rating column.\n",
      "Shape of dataset after removal of outliers in BLACK_RATING column: (19425, 15) \n",
      "\n",
      "\n",
      "Handling Outliers in OPENING_MOVES COLUMN: \n",
      "\n",
      "The values below -1.5 and above 10.5 are outliers.\n",
      "There are 844 outliers in opening_moves column.\n",
      "Shape of dataset after removal of outliers in OPENING_MOVES column: (18581, 15) \n",
      "\n",
      "\n"
     ]
    }
   ],
   "source": [
    "out=['turns','white_rating','black_rating','opening_moves']\n",
    "ind1,ind2,i1,i2=[],[],[],[]\n",
    "\n",
    "for i in out:\n",
    "    print('Handling Outliers in',i.upper(),'COLUMN: \\n')\n",
    "    Q1=np.percentile(dt[i],25,interpolation='midpoint')\n",
    "    Q2=np.percentile(dt[i],50,interpolation='midpoint')\n",
    "    Q3=np.percentile(dt[i],75,interpolation='midpoint')\n",
    "\n",
    "    IQR = Q3-Q1\n",
    "    low_lim = Q1-1.5*IQR\n",
    "    up_lim = Q3+1.5*IQR\n",
    "    \n",
    "    print('The values below',low_lim,'and above',up_lim,'are outliers.')\n",
    "    \n",
    "    outlier=[]\n",
    "    for x in dt[i]:\n",
    "        if x > up_lim or x < low_lim:\n",
    "            outlier.append(x)\n",
    "            \n",
    "    print('There are',len(outlier),'outliers in',i,'column.')\n",
    "            \n",
    "    ind1,ind2=dt[i] > up_lim, dt[i]\n",
    "    i1=dt.loc[ind1].index\n",
    "\n",
    "    dt.drop(i1,inplace=True)\n",
    "    \n",
    "    print('Shape of dataset after removal of outliers in',i.upper(),'column:',dt.shape,'\\n\\n')"
   ]
  },
  {
   "cell_type": "code",
   "execution_count": 17,
   "id": "dceac507",
   "metadata": {},
   "outputs": [
    {
     "data": {
      "text/plain": [
       "<function matplotlib.pyplot.show(close=None, block=None)>"
      ]
     },
     "execution_count": 17,
     "metadata": {},
     "output_type": "execute_result"
    },
    {
     "data": {
      "image/png": "[encoded data removed]",
      "text/plain": [
       "<Figure size 432x288 with 1 Axes>"
      ]
     },
     "metadata": {
      "needs_background": "light"
     },
     "output_type": "display_data"
    }
   ],
   "source": [
    "sns.boxplot(data=dt,orient='h')\n",
    "plt.show"
   ]
  },
  {
   "cell_type": "code",
   "execution_count": 18,
   "id": "76c42a69",
   "metadata": {},
   "outputs": [
    {
     "data": {
      "text/plain": [
       "True     15027\n",
       "False     3554\n",
       "Name: rated, dtype: int64"
      ]
     },
     "execution_count": 18,
     "metadata": {},
     "output_type": "execute_result"
    }
   ],
   "source": [
    "dt.rated.value_counts()"
   ]
  },
  {
   "cell_type": "markdown",
   "id": "52676142",
   "metadata": {},
   "source": [
    "#### Findings:\n",
    "\n",
    "- Rated column ins a boolean type contain two values false and true, so that it doesn't contain any valid outliers.\n",
    "- Remaining 3 columns can handled for ouliers removal."
   ]
  },
  {
   "cell_type": "code",
   "execution_count": 19,
   "id": "1b47cd6e",
   "metadata": {},
   "outputs": [
    {
     "name": "stdout",
     "output_type": "stream",
     "text": [
      "Handling Outliers in TURNS COLUMN: \n",
      "\n",
      "The values below -24.0 and above 136.0 are outliers.\n",
      "There are 143 outliers in turns column.\n",
      "Shape of dataset after removal of outliers in TURNS column: (18438, 15) \n",
      "\n",
      "\n",
      "Handling Outliers in WHITE_RATING COLUMN: \n",
      "\n",
      "The values below 811.0 and above 2339.0 are outliers.\n",
      "There are 30 outliers in white_rating column.\n",
      "Shape of dataset after removal of outliers in WHITE_RATING column: (18418, 15) \n",
      "\n",
      "\n",
      "Handling Outliers in BLACK_RATING COLUMN: \n",
      "\n",
      "The values below 813.5 and above 2321.5 are outliers.\n",
      "There are 51 outliers in black_rating column.\n",
      "Shape of dataset after removal of outliers in BLACK_RATING column: (18379, 15) \n",
      "\n",
      "\n",
      "Handling Outliers in OPENING_MOVES COLUMN: \n",
      "\n",
      "The values below -1.5 and above 10.5 are outliers.\n",
      "There are 0 outliers in opening_moves column.\n",
      "Shape of dataset after removal of outliers in OPENING_MOVES column: (18379, 15) \n",
      "\n",
      "\n"
     ]
    }
   ],
   "source": [
    "out=['turns','white_rating','black_rating','opening_moves']\n",
    "ind1,ind2,i1,i2=[],[],[],[]\n",
    "\n",
    "for i in out:\n",
    "    print('Handling Outliers in',i.upper(),'COLUMN: \\n')\n",
    "    Q1=np.percentile(dt[i],25,interpolation='midpoint')\n",
    "    Q2=np.percentile(dt[i],50,interpolation='midpoint')\n",
    "    Q3=np.percentile(dt[i],75,interpolation='midpoint')\n",
    "\n",
    "    IQR = Q3-Q1\n",
    "    low_lim = Q1-1.5*IQR\n",
    "    up_lim = Q3+1.5*IQR\n",
    "    \n",
    "    print('The values below',low_lim,'and above',up_lim,'are outliers.')\n",
    "    \n",
    "    outlier=[]\n",
    "    for x in dt[i]:\n",
    "        if x > up_lim or x < low_lim:\n",
    "            outlier.append(x)\n",
    "            \n",
    "    print('There are',len(outlier),'outliers in',i,'column.')\n",
    "            \n",
    "    ind1,ind2=dt[i] > up_lim, dt[i]\n",
    "    i1=dt.loc[ind1].index\n",
    "\n",
    "    dt.drop(i1,inplace=True)\n",
    "    \n",
    "    print('Shape of dataset after removal of outliers in',i.upper(),'column:',dt.shape,'\\n\\n')"
   ]
  },
  {
   "cell_type": "code",
   "execution_count": 20,
   "id": "857a803a",
   "metadata": {},
   "outputs": [
    {
     "data": {
      "text/plain": [
       "<function matplotlib.pyplot.show(close=None, block=None)>"
      ]
     },
     "execution_count": 20,
     "metadata": {},
     "output_type": "execute_result"
    },
    {
     "data": {
      "image/png": "[encoded data removed]",
      "text/plain": [
       "<Figure size 432x288 with 1 Axes>"
      ]
     },
     "metadata": {
      "needs_background": "light"
     },
     "output_type": "display_data"
    }
   ],
   "source": [
    "sns.boxplot(data=dt,orient='h')\n",
    "plt.show"
   ]
  },
  {
   "cell_type": "markdown",
   "id": "a1510b8c",
   "metadata": {},
   "source": [
    "# 2.3: Feature Reduction"
   ]
  },
  {
   "cell_type": "code",
   "execution_count": 21,
   "id": "05b6e005",
   "metadata": {},
   "outputs": [
    {
     "data": {
      "text/plain": [
       "Index(['rated', 'turns', 'victory_status', 'winner', 'time_increment',\n",
       "       'white_id', 'white_rating', 'black_id', 'black_rating', 'moves',\n",
       "       'opening_code', 'opening_moves', 'opening_fullname',\n",
       "       'opening_shortname', 'opening_variation'],\n",
       "      dtype='object')"
      ]
     },
     "execution_count": 21,
     "metadata": {},
     "output_type": "execute_result"
    }
   ],
   "source": [
    "dt.columns"
   ]
  },
  {
   "cell_type": "code",
   "execution_count": 22,
   "id": "62de902b",
   "metadata": {},
   "outputs": [
    {
     "data": {
      "text/plain": [
       "(18379, 12)"
      ]
     },
     "execution_count": 22,
     "metadata": {},
     "output_type": "execute_result"
    }
   ],
   "source": [
    "#Dropping columns\n",
    "dt.drop(['rated','time_increment','opening_fullname'],axis=1,inplace=True)\n",
    "dt.shape"
   ]
  },
  {
   "cell_type": "markdown",
   "id": "ba9b52f8",
   "metadata": {},
   "source": [
    "# 2.4: Standardization/Normalization"
   ]
  },
  {
   "cell_type": "code",
   "execution_count": 47,
   "id": "fc109391",
   "metadata": {},
   "outputs": [],
   "source": [
    "from sklearn import preprocessing\n",
    "standardisation = preprocessing.StandardScaler()\n",
    "s=dt[['turns','white_rating','black_rating','opening_moves']]\n",
    "s=standardisation.fit_transform(s)"
   ]
  },
  {
   "cell_type": "code",
   "execution_count": 48,
   "id": "e8548ba4",
   "metadata": {},
   "outputs": [
    {
     "data": {
      "text/html": [
       "<div>\n",
       "<style scoped>\n",
       "    .dataframe tbody tr th:only-of-type {\n",
       "        vertical-align: middle;\n",
       "    }\n",
       "\n",
       "    .dataframe tbody tr th {\n",
       "        vertical-align: top;\n",
       "    }\n",
       "\n",
       "    .dataframe thead th {\n",
       "        text-align: right;\n",
       "    }\n",
       "</style>\n",
       "<table border=\"1\" class=\"dataframe\">\n",
       "  <thead>\n",
       "    <tr style=\"text-align: right;\">\n",
       "      <th></th>\n",
       "      <th>turns</th>\n",
       "      <th>white_rating</th>\n",
       "      <th>black_rating</th>\n",
       "      <th>opening_moves</th>\n",
       "    </tr>\n",
       "  </thead>\n",
       "  <tbody>\n",
       "    <tr>\n",
       "      <th>count</th>\n",
       "      <td>18379.00</td>\n",
       "      <td>18379.00</td>\n",
       "      <td>18379.00</td>\n",
       "      <td>18379.00</td>\n",
       "    </tr>\n",
       "    <tr>\n",
       "      <th>mean</th>\n",
       "      <td>-0.00</td>\n",
       "      <td>0.00</td>\n",
       "      <td>-0.00</td>\n",
       "      <td>-0.00</td>\n",
       "    </tr>\n",
       "    <tr>\n",
       "      <th>std</th>\n",
       "      <td>1.00</td>\n",
       "      <td>1.00</td>\n",
       "      <td>1.00</td>\n",
       "      <td>1.00</td>\n",
       "    </tr>\n",
       "    <tr>\n",
       "      <th>min</th>\n",
       "      <td>-1.91</td>\n",
       "      <td>-2.86</td>\n",
       "      <td>-2.79</td>\n",
       "      <td>-1.55</td>\n",
       "    </tr>\n",
       "    <tr>\n",
       "      <th>25%</th>\n",
       "      <td>-0.73</td>\n",
       "      <td>-0.69</td>\n",
       "      <td>-0.68</td>\n",
       "      <td>-0.65</td>\n",
       "    </tr>\n",
       "    <tr>\n",
       "      <th>50%</th>\n",
       "      <td>-0.11</td>\n",
       "      <td>-0.09</td>\n",
       "      <td>-0.08</td>\n",
       "      <td>-0.19</td>\n",
       "    </tr>\n",
       "    <tr>\n",
       "      <th>75%</th>\n",
       "      <td>0.63</td>\n",
       "      <td>0.68</td>\n",
       "      <td>0.67</td>\n",
       "      <td>0.71</td>\n",
       "    </tr>\n",
       "    <tr>\n",
       "      <th>max</th>\n",
       "      <td>2.67</td>\n",
       "      <td>2.75</td>\n",
       "      <td>2.70</td>\n",
       "      <td>2.52</td>\n",
       "    </tr>\n",
       "  </tbody>\n",
       "</table>\n",
       "</div>"
      ],
      "text/plain": [
       "          turns  white_rating  black_rating  opening_moves\n",
       "count  18379.00      18379.00      18379.00       18379.00\n",
       "mean      -0.00          0.00         -0.00          -0.00\n",
       "std        1.00          1.00          1.00           1.00\n",
       "min       -1.91         -2.86         -2.79          -1.55\n",
       "25%       -0.73         -0.69         -0.68          -0.65\n",
       "50%       -0.11         -0.09         -0.08          -0.19\n",
       "75%        0.63          0.68          0.67           0.71\n",
       "max        2.67          2.75          2.70           2.52"
      ]
     },
     "execution_count": 48,
     "metadata": {},
     "output_type": "execute_result"
    }
   ],
   "source": [
    "s=pd.DataFrame(s)\n",
    "s.columns=['turns','white_rating','black_rating','opening_moves']\n",
    "s.describe().round(2)"
   ]
  },
  {
   "cell_type": "markdown",
   "id": "2b1ed840",
   "metadata": {},
   "source": [
    "# 3: Exploratory Data Analysis (EDA)\n",
    "\n",
    "## 3.1: Univariate Analysis\n",
    "\n",
    "### 3.1.1: The percentage of games were won by white, Black. How many ended in a draw?"
   ]
  },
  {
   "cell_type": "code",
   "execution_count": 49,
   "id": "84283d9b",
   "metadata": {},
   "outputs": [
    {
     "data": {
      "text/html": [
       "<div>\n",
       "<style scoped>\n",
       "    .dataframe tbody tr th:only-of-type {\n",
       "        vertical-align: middle;\n",
       "    }\n",
       "\n",
       "    .dataframe tbody tr th {\n",
       "        vertical-align: top;\n",
       "    }\n",
       "\n",
       "    .dataframe thead th {\n",
       "        text-align: right;\n",
       "    }\n",
       "</style>\n",
       "<table border=\"1\" class=\"dataframe\">\n",
       "  <thead>\n",
       "    <tr style=\"text-align: right;\">\n",
       "      <th></th>\n",
       "      <th>Winner</th>\n",
       "      <th>Count</th>\n",
       "    </tr>\n",
       "  </thead>\n",
       "  <tbody>\n",
       "    <tr>\n",
       "      <th>0</th>\n",
       "      <td>White</td>\n",
       "      <td>9233</td>\n",
       "    </tr>\n",
       "    <tr>\n",
       "      <th>1</th>\n",
       "      <td>Black</td>\n",
       "      <td>8394</td>\n",
       "    </tr>\n",
       "    <tr>\n",
       "      <th>2</th>\n",
       "      <td>Draw</td>\n",
       "      <td>752</td>\n",
       "    </tr>\n",
       "  </tbody>\n",
       "</table>\n",
       "</div>"
      ],
      "text/plain": [
       "  Winner  Count\n",
       "0  White   9233\n",
       "1  Black   8394\n",
       "2   Draw    752"
      ]
     },
     "execution_count": 49,
     "metadata": {},
     "output_type": "execute_result"
    }
   ],
   "source": [
    "# get a dataset that displays the counts of each outcome\n",
    "winners = pd.DataFrame(dt['winner'].value_counts()).reset_index().rename(columns={'index': 'Winner', 'winner': 'Count'})\n",
    "winners"
   ]
  },
  {
   "cell_type": "code",
   "execution_count": 50,
   "id": "7b4f70fb",
   "metadata": {},
   "outputs": [
    {
     "name": "stdout",
     "output_type": "stream",
     "text": [
      "Requirement already satisfied: plotly in c:\\users\\hp\\anaconda3\\lib\\site-packages (5.5.0)\n",
      "Requirement already satisfied: six in c:\\users\\hp\\anaconda3\\lib\\site-packages (from plotly) (1.15.0)\n",
      "Requirement already satisfied: tenacity>=6.2.0 in c:\\users\\hp\\anaconda3\\lib\\site-packages (from plotly) (8.0.1)\n",
      "Note: you may need to restart the kernel to use updated packages.\n"
     ]
    }
   ],
   "source": [
    "pip install plotly"
   ]
  },
  {
   "cell_type": "code",
   "execution_count": 29,
   "id": "e42ab3ef",
   "metadata": {},
   "outputs": [],
   "source": [
    "import warnings\n",
    "warnings.filterwarnings('ignore')\n",
    "import plotly.express as px"
   ]
  },
  {
   "cell_type": "code",
   "execution_count": 30,
   "id": "96359abe",
   "metadata": {},
   "outputs": [
    {
     "name": "stdout",
     "output_type": "stream",
     "text": [
      "Requirement already satisfied: kaleido in c:\\users\\hp\\anaconda3\\lib\\site-packages (0.2.1)\n",
      "Note: you may need to restart the kernel to use updated packages.\n"
     ]
    },
    {
     "name": "stderr",
     "output_type": "stream",
     "text": [
      "WARNING: Retrying (Retry(total=4, connect=None, read=None, redirect=None, status=None)) after connection broken by 'NewConnectionError('<pip._vendor.urllib3.connection.HTTPSConnection object at 0x00000242FD7333A0>: Failed to establish a new connection: [Errno 11001] getaddrinfo failed')': /simple/kaleido/\n",
      "WARNING: Retrying (Retry(total=3, connect=None, read=None, redirect=None, status=None)) after connection broken by 'NewConnectionError('<pip._vendor.urllib3.connection.HTTPSConnection object at 0x00000242FD7335E0>: Failed to establish a new connection: [Errno 11001] getaddrinfo failed')': /simple/kaleido/\n",
      "WARNING: Retrying (Retry(total=2, connect=None, read=None, redirect=None, status=None)) after connection broken by 'NewConnectionError('<pip._vendor.urllib3.connection.HTTPSConnection object at 0x00000242FD7337C0>: Failed to establish a new connection: [Errno 11001] getaddrinfo failed')': /simple/kaleido/\n",
      "WARNING: Retrying (Retry(total=1, connect=None, read=None, redirect=None, status=None)) after connection broken by 'NewConnectionError('<pip._vendor.urllib3.connection.HTTPSConnection object at 0x00000242FD7339A0>: Failed to establish a new connection: [Errno 11001] getaddrinfo failed')': /simple/kaleido/\n",
      "WARNING: Retrying (Retry(total=0, connect=None, read=None, redirect=None, status=None)) after connection broken by 'NewConnectionError('<pip._vendor.urllib3.connection.HTTPSConnection object at 0x00000242FD733B80>: Failed to establish a new connection: [Errno 11001] getaddrinfo failed')': /simple/kaleido/\n"
     ]
    }
   ],
   "source": [
    "pip install -U kaleido"
   ]
  },
  {
   "cell_type": "code",
   "execution_count": 51,
   "id": "1d7526d1",
   "metadata": {},
   "outputs": [
    {
     "data": {
      "image/png": "[encoded data removed]"
     },
     "metadata": {},
     "output_type": "display_data"
    }
   ],
   "source": [
    "fig=px.pie(winners,title='Percentages of Wins and Draws',names='Winner',values='Count', height=450,width=500)\n",
    "fig.show('png')"
   ]
  },
  {
   "cell_type": "markdown",
   "id": "aca9cf41",
   "metadata": {},
   "source": [
    "#### Insight:\n",
    "\n",
    "- With this pie chart, we can see that almost half (50.1%) of all games were won with the white pieces, 45.6% by black, and 4.22% games ended in a draw.\n",
    "- 9318 games won by white pieces.\n",
    "- 8479 games won by black pieces."
   ]
  },
  {
   "cell_type": "markdown",
   "id": "c738a02e",
   "metadata": {},
   "source": [
    "### 3.1.2: The most significant opening technique."
   ]
  },
  {
   "cell_type": "code",
   "execution_count": 52,
   "id": "78d6807c",
   "metadata": {},
   "outputs": [
    {
     "data": {
      "text/plain": [
       "Sicilian Defense        2209\n",
       "French Defense          1289\n",
       "Queen's Pawn Game       1182\n",
       "King's Pawn Game         890\n",
       "Queen's Gambit           820\n",
       "Italian Game             807\n",
       "Ruy Lopez                753\n",
       "Scandinavian Defense     699\n",
       "English Opening          682\n",
       "Philidor Defense         662\n",
       "Name: opening_shortname, dtype: int64"
      ]
     },
     "execution_count": 52,
     "metadata": {},
     "output_type": "execute_result"
    }
   ],
   "source": [
    "opening=dt[\"opening_shortname\"].value_counts().nlargest(10)\n",
    "opening"
   ]
  },
  {
   "cell_type": "code",
   "execution_count": 53,
   "id": "10b32749",
   "metadata": {},
   "outputs": [
    {
     "data": {
      "image/png": "[encoded data removed]"
     },
     "metadata": {},
     "output_type": "display_data"
    }
   ],
   "source": [
    "fig=px.bar(y=opening.index,x=opening.values,\n",
    "           title=\"most used Oppenings\".title(),\n",
    "           width=600,height=400,\n",
    "           labels={\"x\":\"Count \",\"y\":\"Opening Move \"},\n",
    "           text=opening.values).update_yaxes(categoryorder='total ascending')\n",
    "fig.show('png')"
   ]
  },
  {
   "cell_type": "markdown",
   "id": "cae526e0",
   "metadata": {},
   "source": [
    "#### Insights:\n",
    "\n",
    "- Out of 128 opening moves these are the top 10 moves.\n",
    "- Sicilian Defense is the most used opening move.\n",
    "- French Defence and Queen's Pawn game are followed the Sicilian Defence"
   ]
  },
  {
   "cell_type": "markdown",
   "id": "57abd52a",
   "metadata": {},
   "source": [
    "### 3.1.3: User With Most Wins"
   ]
  },
  {
   "cell_type": "code",
   "execution_count": 54,
   "id": "a3220418",
   "metadata": {},
   "outputs": [
    {
     "data": {
      "image/png": "[encoded data removed]"
     },
     "metadata": {},
     "output_type": "display_data"
    }
   ],
   "source": [
    "black_win_data = dt[dt['winner']=='Black']\n",
    "\n",
    "fig=px.bar(black_win_data['black_id'].value_counts().head(10),\n",
    "       title='Player Wins With Black Pieces',\n",
    "       orientation='h',\n",
    "       width=600,height=400,labels={\"value\":\"Count \",\"index\":\"User name\"},text=black_win_data['black_id'].value_counts().head(10)\n",
    "      ).update_yaxes(categoryorder='total ascending')\n",
    "fig.show('png')"
   ]
  },
  {
   "cell_type": "code",
   "execution_count": 55,
   "id": "7de47bbf",
   "metadata": {},
   "outputs": [
    {
     "data": {
      "image/png": "[encoded data removed]"
     },
     "metadata": {},
     "output_type": "display_data"
    }
   ],
   "source": [
    "white_win_data = dt[dt['winner']=='White']\n",
    "\n",
    "fig=px.bar(white_win_data['white_id'].value_counts().head(10),\n",
    "       title='Player Wins With White Pieces',\n",
    "       orientation='h',\n",
    "       width=600,height=400,labels={\"value\":\"Count \",\"index\":\"User name\"},text=white_win_data['white_id'].value_counts().head(10)\n",
    "      ).update_yaxes(categoryorder='total ascending')\n",
    "fig.show('png')"
   ]
  },
  {
   "cell_type": "markdown",
   "id": "d29ccaff",
   "metadata": {},
   "source": [
    "#### Insights:\n",
    "\n",
    "- user id with taranga wins most of the games irrespective of white or black coins.\n",
    "- 3 of the users were in top 10 with both black and white pieces."
   ]
  },
  {
   "cell_type": "markdown",
   "id": "54dc1212",
   "metadata": {},
   "source": [
    "## 3.2: Bivariate Analysis\n",
    "\n",
    "### 3.2.1: Proportions of winners according to piece color of winner, and victory_status."
   ]
  },
  {
   "cell_type": "code",
   "execution_count": 56,
   "id": "96377b92",
   "metadata": {},
   "outputs": [
    {
     "data": {
      "text/html": [
       "<div>\n",
       "<style scoped>\n",
       "    .dataframe tbody tr th:only-of-type {\n",
       "        vertical-align: middle;\n",
       "    }\n",
       "\n",
       "    .dataframe tbody tr th {\n",
       "        vertical-align: top;\n",
       "    }\n",
       "\n",
       "    .dataframe thead th {\n",
       "        text-align: right;\n",
       "    }\n",
       "</style>\n",
       "<table border=\"1\" class=\"dataframe\">\n",
       "  <thead>\n",
       "    <tr style=\"text-align: right;\">\n",
       "      <th></th>\n",
       "      <th>winner</th>\n",
       "      <th>victory_status</th>\n",
       "      <th>count</th>\n",
       "    </tr>\n",
       "  </thead>\n",
       "  <tbody>\n",
       "    <tr>\n",
       "      <th>0</th>\n",
       "      <td>White</td>\n",
       "      <td>Resign</td>\n",
       "      <td>5415</td>\n",
       "    </tr>\n",
       "    <tr>\n",
       "      <th>1</th>\n",
       "      <td>Black</td>\n",
       "      <td>Resign</td>\n",
       "      <td>4899</td>\n",
       "    </tr>\n",
       "    <tr>\n",
       "      <th>2</th>\n",
       "      <td>White</td>\n",
       "      <td>Mate</td>\n",
       "      <td>3090</td>\n",
       "    </tr>\n",
       "    <tr>\n",
       "      <th>3</th>\n",
       "      <td>Black</td>\n",
       "      <td>Mate</td>\n",
       "      <td>2763</td>\n",
       "    </tr>\n",
       "    <tr>\n",
       "      <th>4</th>\n",
       "      <td>Black</td>\n",
       "      <td>Out of Time</td>\n",
       "      <td>732</td>\n",
       "    </tr>\n",
       "    <tr>\n",
       "      <th>6</th>\n",
       "      <td>White</td>\n",
       "      <td>Out of Time</td>\n",
       "      <td>728</td>\n",
       "    </tr>\n",
       "  </tbody>\n",
       "</table>\n",
       "</div>"
      ],
      "text/plain": [
       "  winner victory_status  count\n",
       "0  White         Resign   5415\n",
       "1  Black         Resign   4899\n",
       "2  White           Mate   3090\n",
       "3  Black           Mate   2763\n",
       "4  Black    Out of Time    732\n",
       "6  White    Out of Time    728"
      ]
     },
     "execution_count": 56,
     "metadata": {},
     "output_type": "execute_result"
    }
   ],
   "source": [
    "winner_status = (pd.DataFrame(dt[['winner', 'victory_status']].value_counts()).reset_index()\n",
    "                 .rename(columns={'Count': 'winner', 0: 'count'}))\n",
    "\n",
    "winner_status = winner_status[~(winner_status['winner'] == 'Draw')]\n",
    "winner_status"
   ]
  },
  {
   "cell_type": "code",
   "execution_count": 57,
   "id": "e0d7f73e",
   "metadata": {},
   "outputs": [
    {
     "data": {
      "image/png": "[encoded data removed]"
     },
     "metadata": {},
     "output_type": "display_data"
    }
   ],
   "source": [
    "# bar chart that shows proportion of winners by piece color of the winner and the type of victory\n",
    "fig=px.bar(winner_status,\n",
    "       title='Proportion of Winners by Piece color and Victory status',\n",
    "       x='victory_status',\n",
    "       y='count',\n",
    "       color='winner',\n",
    "       barmode='group',  \n",
    "       height=500,\n",
    "       width=700,)\n",
    "fig.show('png')"
   ]
  },
  {
   "cell_type": "markdown",
   "id": "fc3774d0",
   "metadata": {},
   "source": [
    "#### Insight:\n",
    "\n",
    "- Except for out of time victory status, \"white\" have victory in all other statsuses"
   ]
  },
  {
   "cell_type": "markdown",
   "id": "715eb7ee",
   "metadata": {},
   "source": [
    "### 3.2.2: How many times the winner was the one that has higher rate?"
   ]
  },
  {
   "cell_type": "code",
   "execution_count": 58,
   "id": "a323437d",
   "metadata": {},
   "outputs": [
    {
     "data": {
      "text/html": [
       "<div>\n",
       "<style scoped>\n",
       "    .dataframe tbody tr th:only-of-type {\n",
       "        vertical-align: middle;\n",
       "    }\n",
       "\n",
       "    .dataframe tbody tr th {\n",
       "        vertical-align: top;\n",
       "    }\n",
       "\n",
       "    .dataframe thead th {\n",
       "        text-align: right;\n",
       "    }\n",
       "</style>\n",
       "<table border=\"1\" class=\"dataframe\">\n",
       "  <thead>\n",
       "    <tr style=\"text-align: right;\">\n",
       "      <th></th>\n",
       "      <th>winner</th>\n",
       "      <th>white_rating</th>\n",
       "      <th>black_rating</th>\n",
       "    </tr>\n",
       "    <tr>\n",
       "      <th>game_id</th>\n",
       "      <th></th>\n",
       "      <th></th>\n",
       "      <th></th>\n",
       "    </tr>\n",
       "  </thead>\n",
       "  <tbody>\n",
       "    <tr>\n",
       "      <th>1</th>\n",
       "      <td>White</td>\n",
       "      <td>1500</td>\n",
       "      <td>1191</td>\n",
       "    </tr>\n",
       "    <tr>\n",
       "      <th>2</th>\n",
       "      <td>Black</td>\n",
       "      <td>1322</td>\n",
       "      <td>1261</td>\n",
       "    </tr>\n",
       "    <tr>\n",
       "      <th>3</th>\n",
       "      <td>White</td>\n",
       "      <td>1496</td>\n",
       "      <td>1500</td>\n",
       "    </tr>\n",
       "    <tr>\n",
       "      <th>4</th>\n",
       "      <td>White</td>\n",
       "      <td>1439</td>\n",
       "      <td>1454</td>\n",
       "    </tr>\n",
       "    <tr>\n",
       "      <th>5</th>\n",
       "      <td>White</td>\n",
       "      <td>1523</td>\n",
       "      <td>1469</td>\n",
       "    </tr>\n",
       "  </tbody>\n",
       "</table>\n",
       "</div>"
      ],
      "text/plain": [
       "        winner  white_rating  black_rating\n",
       "game_id                                   \n",
       "1        White          1500          1191\n",
       "2        Black          1322          1261\n",
       "3        White          1496          1500\n",
       "4        White          1439          1454\n",
       "5        White          1523          1469"
      ]
     },
     "execution_count": 58,
     "metadata": {},
     "output_type": "execute_result"
    }
   ],
   "source": [
    "rate_win=dt[[\"winner\",\"white_rating\",\"black_rating\"]]\n",
    "rate_win.head()"
   ]
  },
  {
   "cell_type": "code",
   "execution_count": 59,
   "id": "9d58a755",
   "metadata": {},
   "outputs": [
    {
     "data": {
      "text/html": [
       "<div>\n",
       "<style scoped>\n",
       "    .dataframe tbody tr th:only-of-type {\n",
       "        vertical-align: middle;\n",
       "    }\n",
       "\n",
       "    .dataframe tbody tr th {\n",
       "        vertical-align: top;\n",
       "    }\n",
       "\n",
       "    .dataframe thead th {\n",
       "        text-align: right;\n",
       "    }\n",
       "</style>\n",
       "<table border=\"1\" class=\"dataframe\">\n",
       "  <thead>\n",
       "    <tr style=\"text-align: right;\">\n",
       "      <th></th>\n",
       "      <th>winner</th>\n",
       "      <th>white_rating</th>\n",
       "      <th>black_rating</th>\n",
       "      <th>w_r&gt;b_r</th>\n",
       "    </tr>\n",
       "    <tr>\n",
       "      <th>game_id</th>\n",
       "      <th></th>\n",
       "      <th></th>\n",
       "      <th></th>\n",
       "      <th></th>\n",
       "    </tr>\n",
       "  </thead>\n",
       "  <tbody>\n",
       "    <tr>\n",
       "      <th>1</th>\n",
       "      <td>White</td>\n",
       "      <td>1500</td>\n",
       "      <td>1191</td>\n",
       "      <td>True</td>\n",
       "    </tr>\n",
       "    <tr>\n",
       "      <th>2</th>\n",
       "      <td>Black</td>\n",
       "      <td>1322</td>\n",
       "      <td>1261</td>\n",
       "      <td>True</td>\n",
       "    </tr>\n",
       "    <tr>\n",
       "      <th>3</th>\n",
       "      <td>White</td>\n",
       "      <td>1496</td>\n",
       "      <td>1500</td>\n",
       "      <td>False</td>\n",
       "    </tr>\n",
       "    <tr>\n",
       "      <th>4</th>\n",
       "      <td>White</td>\n",
       "      <td>1439</td>\n",
       "      <td>1454</td>\n",
       "      <td>False</td>\n",
       "    </tr>\n",
       "    <tr>\n",
       "      <th>5</th>\n",
       "      <td>White</td>\n",
       "      <td>1523</td>\n",
       "      <td>1469</td>\n",
       "      <td>True</td>\n",
       "    </tr>\n",
       "  </tbody>\n",
       "</table>\n",
       "</div>"
      ],
      "text/plain": [
       "        winner  white_rating  black_rating  w_r>b_r\n",
       "game_id                                            \n",
       "1        White          1500          1191     True\n",
       "2        Black          1322          1261     True\n",
       "3        White          1496          1500    False\n",
       "4        White          1439          1454    False\n",
       "5        White          1523          1469     True"
      ]
     },
     "execution_count": 59,
     "metadata": {},
     "output_type": "execute_result"
    }
   ],
   "source": [
    "rate_win[\"w_r>b_r\"]=(rate_win[\"white_rating\"] > rate_win[\"black_rating\"])\n",
    "rate_win.head()"
   ]
  },
  {
   "cell_type": "code",
   "execution_count": 60,
   "id": "d9ec2945",
   "metadata": {},
   "outputs": [
    {
     "data": {
      "text/html": [
       "<div>\n",
       "<style scoped>\n",
       "    .dataframe tbody tr th:only-of-type {\n",
       "        vertical-align: middle;\n",
       "    }\n",
       "\n",
       "    .dataframe tbody tr th {\n",
       "        vertical-align: top;\n",
       "    }\n",
       "\n",
       "    .dataframe thead th {\n",
       "        text-align: right;\n",
       "    }\n",
       "</style>\n",
       "<table border=\"1\" class=\"dataframe\">\n",
       "  <thead>\n",
       "    <tr style=\"text-align: right;\">\n",
       "      <th></th>\n",
       "      <th>winner</th>\n",
       "      <th>white_rating</th>\n",
       "      <th>black_rating</th>\n",
       "      <th>w_r&gt;b_r</th>\n",
       "      <th>win_rate_status</th>\n",
       "    </tr>\n",
       "    <tr>\n",
       "      <th>game_id</th>\n",
       "      <th></th>\n",
       "      <th></th>\n",
       "      <th></th>\n",
       "      <th></th>\n",
       "      <th></th>\n",
       "    </tr>\n",
       "  </thead>\n",
       "  <tbody>\n",
       "    <tr>\n",
       "      <th>1</th>\n",
       "      <td>White</td>\n",
       "      <td>1500</td>\n",
       "      <td>1191</td>\n",
       "      <td>True</td>\n",
       "      <td>high_rating win</td>\n",
       "    </tr>\n",
       "    <tr>\n",
       "      <th>2</th>\n",
       "      <td>Black</td>\n",
       "      <td>1322</td>\n",
       "      <td>1261</td>\n",
       "      <td>True</td>\n",
       "      <td>low_rating win</td>\n",
       "    </tr>\n",
       "    <tr>\n",
       "      <th>3</th>\n",
       "      <td>White</td>\n",
       "      <td>1496</td>\n",
       "      <td>1500</td>\n",
       "      <td>False</td>\n",
       "      <td>low_rating win</td>\n",
       "    </tr>\n",
       "    <tr>\n",
       "      <th>4</th>\n",
       "      <td>White</td>\n",
       "      <td>1439</td>\n",
       "      <td>1454</td>\n",
       "      <td>False</td>\n",
       "      <td>low_rating win</td>\n",
       "    </tr>\n",
       "    <tr>\n",
       "      <th>5</th>\n",
       "      <td>White</td>\n",
       "      <td>1523</td>\n",
       "      <td>1469</td>\n",
       "      <td>True</td>\n",
       "      <td>high_rating win</td>\n",
       "    </tr>\n",
       "    <tr>\n",
       "      <th>...</th>\n",
       "      <td>...</td>\n",
       "      <td>...</td>\n",
       "      <td>...</td>\n",
       "      <td>...</td>\n",
       "      <td>...</td>\n",
       "    </tr>\n",
       "    <tr>\n",
       "      <th>20054</th>\n",
       "      <td>White</td>\n",
       "      <td>1691</td>\n",
       "      <td>1220</td>\n",
       "      <td>True</td>\n",
       "      <td>high_rating win</td>\n",
       "    </tr>\n",
       "    <tr>\n",
       "      <th>20055</th>\n",
       "      <td>Black</td>\n",
       "      <td>1233</td>\n",
       "      <td>1196</td>\n",
       "      <td>True</td>\n",
       "      <td>low_rating win</td>\n",
       "    </tr>\n",
       "    <tr>\n",
       "      <th>20056</th>\n",
       "      <td>White</td>\n",
       "      <td>1219</td>\n",
       "      <td>1286</td>\n",
       "      <td>False</td>\n",
       "      <td>low_rating win</td>\n",
       "    </tr>\n",
       "    <tr>\n",
       "      <th>20057</th>\n",
       "      <td>White</td>\n",
       "      <td>1360</td>\n",
       "      <td>1227</td>\n",
       "      <td>True</td>\n",
       "      <td>high_rating win</td>\n",
       "    </tr>\n",
       "    <tr>\n",
       "      <th>20058</th>\n",
       "      <td>Black</td>\n",
       "      <td>1235</td>\n",
       "      <td>1339</td>\n",
       "      <td>False</td>\n",
       "      <td>high_rating win</td>\n",
       "    </tr>\n",
       "  </tbody>\n",
       "</table>\n",
       "<p>18379 rows × 5 columns</p>\n",
       "</div>"
      ],
      "text/plain": [
       "        winner  white_rating  black_rating  w_r>b_r  win_rate_status\n",
       "game_id                                                             \n",
       "1        White          1500          1191     True  high_rating win\n",
       "2        Black          1322          1261     True   low_rating win\n",
       "3        White          1496          1500    False   low_rating win\n",
       "4        White          1439          1454    False   low_rating win\n",
       "5        White          1523          1469     True  high_rating win\n",
       "...        ...           ...           ...      ...              ...\n",
       "20054    White          1691          1220     True  high_rating win\n",
       "20055    Black          1233          1196     True   low_rating win\n",
       "20056    White          1219          1286    False   low_rating win\n",
       "20057    White          1360          1227     True  high_rating win\n",
       "20058    Black          1235          1339    False  high_rating win\n",
       "\n",
       "[18379 rows x 5 columns]"
      ]
     },
     "execution_count": 60,
     "metadata": {},
     "output_type": "execute_result"
    }
   ],
   "source": [
    "win_rate_stat=((rate_win[\"winner\"]==\"White\")&(rate_win[\"w_r>b_r\"]==True)) | ((rate_win[\"winner\"]==\"Black\")&(rate_win[\"w_r>b_r\"]==False))\n",
    "rate_win[\"win_rate_status\"]=\"low_rating win\"\n",
    "rate_win.loc[win_rate_stat,\"win_rate_status\"]=\"high_rating win\"\n",
    "rate_win"
   ]
  },
  {
   "cell_type": "code",
   "execution_count": 61,
   "id": "1bf3436d",
   "metadata": {},
   "outputs": [
    {
     "data": {
      "image/png": "[encoded data removed]"
     },
     "metadata": {},
     "output_type": "display_data"
    }
   ],
   "source": [
    "fig=px.pie(rate_win[\"win_rate_status\"].value_counts(),\n",
    "           names=rate_win[\"win_rate_status\"].value_counts().index,values=rate_win[\"win_rate_status\"].value_counts().values,\n",
    "           title=\"Player Rating vs Winnig\",\n",
    "           labels={\"names\":\"Situation \",\"values\":\"Count \"})\n",
    "fig.show('png')"
   ]
  },
  {
   "cell_type": "markdown",
   "id": "869770a3",
   "metadata": {},
   "source": [
    "#### Insisghts:\n",
    "\n",
    "- 62.4% of the games are won by the player with high rating.\n",
    "- Remaining 37.6% of the games won by player with low rating.\n",
    "- Majority of the case, won by high rated player."
   ]
  },
  {
   "cell_type": "code",
   "execution_count": 62,
   "id": "0eea77af",
   "metadata": {},
   "outputs": [
    {
     "data": {
      "text/plain": [
       "game_id\n",
       "1        d4 d5 c4 c6 cxd5 e6 dxe6 fxe6 Nf3 Bb4+ Nc3 Ba5...\n",
       "2        d4 Nc6 e4 e5 f4 f6 dxe5 fxe5 fxe5 Nxe5 Qd4 Nc6...\n",
       "3        e4 e5 d3 d6 Be3 c6 Be2 b5 Nd2 a5 a4 c5 axb5 Nc...\n",
       "4        d4 d5 Nf3 Bf5 Nc3 Nf6 Bf4 Ng4 e3 Nc6 Be2 Qd7 O...\n",
       "5        e4 e5 Nf3 d6 d4 Nc6 d5 Nb4 a3 Na6 Nc3 Be7 b4 N...\n",
       "                               ...                        \n",
       "20054    d4 f5 e3 e6 Nf3 Nf6 Nc3 b6 Be2 Bb7 O-O Be7 Ne5...\n",
       "20055    d4 d6 Bf4 e5 Bg3 Nf6 e3 exd4 exd4 d5 c3 Bd6 Bd...\n",
       "20056    d4 d5 Bf4 Nc6 e3 Nf6 c3 e6 Nf3 Be7 Bd3 O-O Nbd...\n",
       "20057    e4 d6 d4 Nf6 e5 dxe5 dxe5 Qxd1+ Kxd1 Nd5 c4 Nb...\n",
       "20058    d4 d5 Bf4 Na6 e3 e6 c3 Nf6 Nf3 Bd7 Nbd2 b5 Bd3...\n",
       "Name: moves, Length: 18379, dtype: object"
      ]
     },
     "execution_count": 62,
     "metadata": {},
     "output_type": "execute_result"
    }
   ],
   "source": [
    "dt['moves']"
   ]
  },
  {
   "cell_type": "code",
   "execution_count": 63,
   "id": "4a917889",
   "metadata": {},
   "outputs": [],
   "source": [
    "dt[\"opening_move\"]=dt[\"moves\"].str.slice(0,2)\n"
   ]
  },
  {
   "cell_type": "code",
   "execution_count": 65,
   "id": "8938ee6c",
   "metadata": {},
   "outputs": [
    {
     "data": {
      "text/plain": [
       "e4    5165\n",
       "d4    1869\n",
       "c4     284\n",
       "Nf     280\n",
       "e3     248\n",
       "g3      95\n",
       "b3      80\n",
       "f4      80\n",
       "d3      77\n",
       "Name: opening_move, dtype: int64"
      ]
     },
     "execution_count": 65,
     "metadata": {},
     "output_type": "execute_result"
    }
   ],
   "source": [
    "black=dt[dt[\"winner\"]==\"Black\"].opening_move.value_counts().nlargest(9)\n",
    "black"
   ]
  },
  {
   "cell_type": "code",
   "execution_count": 66,
   "id": "2fc4708d",
   "metadata": {},
   "outputs": [
    {
     "data": {
      "image/png": "[encoded data removed]"
     },
     "metadata": {},
     "output_type": "display_data"
    }
   ],
   "source": [
    "fig=px.bar(y=black.index,x=black.values,\n",
    "           title=\"most used oppening moves, black wins\".title(),\n",
    "           labels={\"x\":\"Count \",\"y\":\"Move \"}).update_yaxes(categoryorder='total ascending')\n",
    "fig.show('png')"
   ]
  },
  {
   "cell_type": "markdown",
   "id": "aa11c920",
   "metadata": {},
   "source": [
    "### 3.2.4: Opening move that most frequently used in games in which white won"
   ]
  },
  {
   "cell_type": "code",
   "execution_count": 67,
   "id": "574d0688",
   "metadata": {},
   "outputs": [
    {
     "data": {
      "text/plain": [
       "e4    5857\n",
       "d4    2076\n",
       "c4     368\n",
       "Nf     341\n",
       "e3     138\n",
       "g3      80\n",
       "b3      77\n",
       "f4      66\n",
       "d3      48\n",
       "Name: opening_move, dtype: int64"
      ]
     },
     "execution_count": 67,
     "metadata": {},
     "output_type": "execute_result"
    }
   ],
   "source": [
    "white=dt[dt[\"winner\"]==\"White\"].opening_move.value_counts().nlargest(9)\n",
    "white"
   ]
  },
  {
   "cell_type": "code",
   "execution_count": 68,
   "id": "7a754d6e",
   "metadata": {},
   "outputs": [
    {
     "data": {
      "image/png": "[encoded data removed]"
     },
     "metadata": {},
     "output_type": "display_data"
    }
   ],
   "source": [
    "fig=px.bar(y=white.index,x=white.values,\n",
    "           title=\"most used oppening moves, white wins\".title(),\n",
    "           labels={\"x\":\"Count \",\"y\":\"Move \"}).update_yaxes(categoryorder='total ascending')\n",
    "fig.show('png')"
   ]
  },
  {
   "cell_type": "markdown",
   "id": "5b8f57a5",
   "metadata": {},
   "source": [
    "#### Insights:\n",
    "\n",
    "- Both black and white who wins the game used the same moves for opening.\n",
    "- We can say that the winning move, top 5 moves is done more by white."
   ]
  },
  {
   "cell_type": "markdown",
   "id": "b6c6cf6d",
   "metadata": {},
   "source": [
    "# 4: Modelling"
   ]
  },
  {
   "cell_type": "code",
   "execution_count": 69,
   "id": "33629e90",
   "metadata": {},
   "outputs": [
    {
     "data": {
      "text/plain": [
       "Index(['turns', 'victory_status', 'winner', 'white_id', 'white_rating',\n",
       "       'black_id', 'black_rating', 'moves', 'opening_code', 'opening_moves',\n",
       "       'opening_shortname', 'opening_variation', 'opening_move'],\n",
       "      dtype='object')"
      ]
     },
     "execution_count": 69,
     "metadata": {},
     "output_type": "execute_result"
    }
   ],
   "source": [
    "dt.columns"
   ]
  },
  {
   "cell_type": "code",
   "execution_count": 70,
   "id": "c6d7f888",
   "metadata": {},
   "outputs": [
    {
     "name": "stdout",
     "output_type": "stream",
     "text": [
      "<class 'pandas.core.frame.DataFrame'>\n",
      "Int64Index: 18379 entries, 1 to 20058\n",
      "Data columns (total 13 columns):\n",
      " #   Column             Non-Null Count  Dtype \n",
      "---  ------             --------------  ----- \n",
      " 0   turns              18379 non-null  int64 \n",
      " 1   victory_status     18379 non-null  object\n",
      " 2   winner             18379 non-null  object\n",
      " 3   white_id           18379 non-null  object\n",
      " 4   white_rating       18379 non-null  int64 \n",
      " 5   black_id           18379 non-null  object\n",
      " 6   black_rating       18379 non-null  int64 \n",
      " 7   moves              18379 non-null  object\n",
      " 8   opening_code       18379 non-null  object\n",
      " 9   opening_moves      18379 non-null  int64 \n",
      " 10  opening_shortname  18379 non-null  object\n",
      " 11  opening_variation  18379 non-null  object\n",
      " 12  opening_move       18379 non-null  object\n",
      "dtypes: int64(4), object(9)\n",
      "memory usage: 2.5+ MB\n"
     ]
    }
   ],
   "source": [
    "dt.info()"
   ]
  },
  {
   "cell_type": "code",
   "execution_count": 71,
   "id": "03409f21",
   "metadata": {},
   "outputs": [],
   "source": [
    "dt_p=dt.drop(['victory_status','opening_variation','white_id','black_id','moves','opening_move'],axis=1)"
   ]
  },
  {
   "cell_type": "code",
   "execution_count": 72,
   "id": "e1829e8a",
   "metadata": {},
   "outputs": [
    {
     "name": "stdout",
     "output_type": "stream",
     "text": [
      "<class 'pandas.core.frame.DataFrame'>\n",
      "Int64Index: 18379 entries, 1 to 20058\n",
      "Data columns (total 7 columns):\n",
      " #   Column             Non-Null Count  Dtype \n",
      "---  ------             --------------  ----- \n",
      " 0   turns              18379 non-null  int64 \n",
      " 1   winner             18379 non-null  object\n",
      " 2   white_rating       18379 non-null  int64 \n",
      " 3   black_rating       18379 non-null  int64 \n",
      " 4   opening_code       18379 non-null  object\n",
      " 5   opening_moves      18379 non-null  int64 \n",
      " 6   opening_shortname  18379 non-null  object\n",
      "dtypes: int64(4), object(3)\n",
      "memory usage: 1.6+ MB\n"
     ]
    }
   ],
   "source": [
    "dt_p.info()"
   ]
  },
  {
   "cell_type": "markdown",
   "id": "6cc1d391",
   "metadata": {},
   "source": [
    "## Encoding"
   ]
  },
  {
   "cell_type": "code",
   "execution_count": 73,
   "id": "b4e0bd1a",
   "metadata": {},
   "outputs": [],
   "source": [
    "#Except the target column (winner), all other features are to encoded\n",
    "\n",
    "from sklearn.preprocessing import LabelEncoder\n",
    "class_en = LabelEncoder()\n",
    "dt_p['opening_shortname']=class_en.fit_transform(dt_p['opening_shortname'])\n",
    "dt_p['opening_code']=class_en.fit_transform(dt_p['opening_code'])"
   ]
  },
  {
   "cell_type": "code",
   "execution_count": 74,
   "id": "c90c5133",
   "metadata": {},
   "outputs": [
    {
     "name": "stdout",
     "output_type": "stream",
     "text": [
      "<class 'pandas.core.frame.DataFrame'>\n",
      "Int64Index: 18379 entries, 1 to 20058\n",
      "Data columns (total 7 columns):\n",
      " #   Column             Non-Null Count  Dtype \n",
      "---  ------             --------------  ----- \n",
      " 0   turns              18379 non-null  int64 \n",
      " 1   winner             18379 non-null  object\n",
      " 2   white_rating       18379 non-null  int64 \n",
      " 3   black_rating       18379 non-null  int64 \n",
      " 4   opening_code       18379 non-null  int32 \n",
      " 5   opening_moves      18379 non-null  int64 \n",
      " 6   opening_shortname  18379 non-null  int32 \n",
      "dtypes: int32(2), int64(4), object(1)\n",
      "memory usage: 1.5+ MB\n"
     ]
    }
   ],
   "source": [
    "dt_p.info()"
   ]
  },
  {
   "cell_type": "code",
   "execution_count": 75,
   "id": "c5debc90",
   "metadata": {},
   "outputs": [],
   "source": [
    "x=dt_p.drop(['winner'],axis=1)\n",
    "y=pd.DataFrame(dt_p['winner'])"
   ]
  },
  {
   "cell_type": "markdown",
   "id": "19a69b89",
   "metadata": {},
   "source": [
    "## Models: This is classification model to predict who is the winner.\n",
    "    \n",
    "Logisitic regression, k-NN, SVM(radial and polynomial), Decision Tree, Random Forest, Gradient Boosting, Extreme Gradient Boosting"
   ]
  },
  {
   "cell_type": "code",
   "execution_count": 76,
   "id": "60a82cdc",
   "metadata": {},
   "outputs": [],
   "source": [
    "from sklearn.model_selection import train_test_split\n",
    "x_train,x_test,y_train,y_test = train_test_split(x,y,random_state=42,test_size=0.3)"
   ]
  },
  {
   "cell_type": "code",
   "execution_count": 77,
   "id": "8b46be3f",
   "metadata": {},
   "outputs": [],
   "source": [
    "from sklearn.neighbors import KNeighborsClassifier as KNN\n",
    "from sklearn.metrics import accuracy_score\n",
    "\n",
    "# to obtain optimum K value\n",
    "# so we want to create model with varied k value\n",
    "\n",
    "acc_values=[]\n",
    "neighbors=np.arange(3,15)\n",
    "for k in neighbors:\n",
    "    classifier=KNN(n_neighbors=k,metric='minkowski') #parameters are no.of neighbors, method to measure the distance\n",
    "    classifier.fit(x_train,y_train) # creating model\n",
    "    y_pred=classifier.predict(x_test)\n",
    "    acc=accuracy_score(y_test,y_pred) # find accuracy values in each case\n",
    "    acc_values.append(acc) # listing this values to the acc list"
   ]
  },
  {
   "cell_type": "code",
   "execution_count": 78,
   "id": "bbd51c6e",
   "metadata": {},
   "outputs": [
    {
     "data": {
      "text/plain": [
       "Text(0, 0.5, 'accuracy')"
      ]
     },
     "execution_count": 78,
     "metadata": {},
     "output_type": "execute_result"
    },
    {
     "data": {
      "image/png": "[encoded data removed]",
      "text/plain": [
       "<Figure size 432x288 with 1 Axes>"
      ]
     },
     "metadata": {
      "needs_background": "light"
     },
     "output_type": "display_data"
    }
   ],
   "source": [
    "# for finding respected k value, we can plot acc value and k value\n",
    "\n",
    "plt.plot(neighbors,acc_values,'o-')\n",
    "plt.xlabel('k-values')\n",
    "plt.ylabel('accuracy') # from plot it is clear that the accuracy is high for k-value with 13"
   ]
  },
  {
   "cell_type": "code",
   "execution_count": 79,
   "id": "a365aab5",
   "metadata": {},
   "outputs": [],
   "source": [
    "from sklearn.linear_model import LogisticRegression\n",
    "from sklearn.neighbors import KNeighborsClassifier as KNN\n",
    "from sklearn.tree import DecisionTreeClassifier\n",
    "from sklearn.svm import SVC\n",
    "SEED=42\n",
    "lr=LogisticRegression(random_state=SEED)\n",
    "knn=KNN(n_neighbors=13)\n",
    "dtc=DecisionTreeClassifier(random_state=SEED)\n",
    "svc_r = SVC(kernel='rbf')\n",
    "svc_p = SVC(kernel='poly')\n",
    "classifiers=[('LogisticRegression',lr),('K Nearest Neighbors',knn),('Decision Tree',dtc),\n",
    "             ('Radial SVM',svc_r),('Polynimial SVM',svc_p)]"
   ]
  },
  {
   "cell_type": "code",
   "execution_count": 80,
   "id": "49fb5721",
   "metadata": {},
   "outputs": [
    {
     "name": "stdout",
     "output_type": "stream",
     "text": [
      "LogisticRegression:0.63\n",
      "K Nearest Neighbors:0.60\n",
      "Decision Tree:0.58\n",
      "Radial SVM:0.62\n",
      "Polynimial SVM:0.61\n"
     ]
    }
   ],
   "source": [
    "for class_name,clf in classifiers:\n",
    "    clf.fit(x_train,y_train)\n",
    "    y_pred=clf.predict(x_test)\n",
    "    accuracy=accuracy_score(y_test,y_pred)\n",
    "    print('{:s}:{:.2f}'.format(class_name,accuracy))"
   ]
  },
  {
   "cell_type": "code",
   "execution_count": 81,
   "id": "cffb2d23",
   "metadata": {},
   "outputs": [],
   "source": [
    "from sklearn.ensemble import VotingClassifier\n",
    "from sklearn.ensemble import RandomForestClassifier\n",
    "from sklearn.ensemble import GradientBoostingClassifier\n",
    "from xgboost import XGBClassifier\n",
    "SEED = 42\n",
    "vc=VotingClassifier(estimators=classifiers)\n",
    "rf=RandomForestClassifier()\n",
    "gb=GradientBoostingClassifier()\n",
    "xgb=XGBClassifier()\n",
    "classifiers=[('Voting Classifier',vc),('Random Forest',rf),('Gradient Boosting',gb),('Extreme Gradient Boosting',xgb)]"
   ]
  },
  {
   "cell_type": "code",
   "execution_count": 85,
   "id": "c2370e3c",
   "metadata": {},
   "outputs": [
    {
     "name": "stdout",
     "output_type": "stream",
     "text": [
      "Voting Classifier:0.63\n",
      "Random Forest:0.66\n",
      "Gradient Boosting:0.71\n",
      "[21:08:51] WARNING: ..\\src\\learner.cc:1115: Starting in XGBoost 1.3.0, the default evaluation metric used with the objective 'multi:softprob' was changed from 'merror' to 'mlogloss'. Explicitly set eval_metric if you'd like to restore the old behavior.\n",
      "Extreme Gradient Boosting:0.85\n"
     ]
    }
   ],
   "source": [
    "for class_name,clf in classifiers:\n",
    "    clf.fit(x_train,y_train)\n",
    "    y_pred=clf.predict(x_test)\n",
    "    accuracy=accuracy_score(y_test,y_pred)\n",
    "    print('{:s}:{:.2f}'.format(class_name,accuracy))"
   ]
  },
  {
   "cell_type": "markdown",
   "id": "db38db1f",
   "metadata": {},
   "source": [
    "#### Insight:\n",
    "\n",
    "- Here the best fit for our prediction is **Extreme Gradient Boosting model with 85% accuracy.**"
   ]
  },
  {
   "cell_type": "markdown",
   "id": "bfe13be5",
   "metadata": {},
   "source": [
    "# 5: Model Fine Tuning"
   ]
  },
  {
   "cell_type": "code",
   "execution_count": 83,
   "id": "b5d9d99a",
   "metadata": {},
   "outputs": [
    {
     "name": "stdout",
     "output_type": "stream",
     "text": [
      "[21:07:12] WARNING: ..\\src\\learner.cc:1115: Starting in XGBoost 1.3.0, the default evaluation metric used with the objective 'multi:softprob' was changed from 'merror' to 'mlogloss'. Explicitly set eval_metric if you'd like to restore the old behavior.\n"
     ]
    },
    {
     "data": {
      "text/plain": [
       "XGBClassifier(base_score=0.5, booster='gbtree', colsample_bylevel=1,\n",
       "              colsample_bynode=1, colsample_bytree=1, enable_categorical=False,\n",
       "              gamma=0, gpu_id=-1, importance_type=None,\n",
       "              interaction_constraints='', learning_rate=0.300000012,\n",
       "              max_delta_step=0, max_depth=6, min_child_weight=1, missing=nan,\n",
       "              monotone_constraints='()', n_estimators=100, n_jobs=4,\n",
       "              num_parallel_tree=1, objective='multi:softprob', predictor='auto',\n",
       "              random_state=0, reg_alpha=0, reg_lambda=1, scale_pos_weight=None,\n",
       "              subsample=1, tree_method='exact', validate_parameters=1,\n",
       "              verbosity=None)"
      ]
     },
     "execution_count": 83,
     "metadata": {},
     "output_type": "execute_result"
    }
   ],
   "source": [
    "xgb.fit(x_train,y_train)"
   ]
  },
  {
   "cell_type": "code",
   "execution_count": 84,
   "id": "9434cd90",
   "metadata": {},
   "outputs": [
    {
     "name": "stdout",
     "output_type": "stream",
     "text": [
      "[21:07:24] WARNING: ..\\src\\learner.cc:576: \n",
      "Parameters: { \"scale_pos_weight\" } might not be used.\n",
      "\n",
      "  This could be a false alarm, with some parameters getting used by language bindings but\n",
      "  then being mistakenly passed down to XGBoost core, or some parameter actually being used\n",
      "  but getting flagged wrongly here. Please open an issue if you find any such cases.\n",
      "\n",
      "\n",
      "[21:07:24] WARNING: ..\\src\\learner.cc:1115: Starting in XGBoost 1.3.0, the default evaluation metric used with the objective 'multi:softprob' was changed from 'merror' to 'mlogloss'. Explicitly set eval_metric if you'd like to restore the old behavior.\n"
     ]
    },
    {
     "data": {
      "text/plain": [
       "XGBClassifier(base_score=0.5, booster='gbtree', colsample_bylevel=1,\n",
       "              colsample_bynode=1, colsample_bytree=0.8,\n",
       "              enable_categorical=False, gamma=0, gpu_id=-1,\n",
       "              importance_type=None, interaction_constraints='',\n",
       "              learning_rate=0.1, max_delta_step=0, max_depth=5,\n",
       "              min_child_weight=1, missing=nan, monotone_constraints='()',\n",
       "              n_estimators=1000, n_jobs=4, nthread=4, num_parallel_tree=1,\n",
       "              objective='multi:softprob', predictor='auto', random_state=27,\n",
       "              reg_alpha=0, reg_lambda=1, scale_pos_weight=1, seed=27,\n",
       "              subsample=0.8, tree_method='exact', validate_parameters=1, ...)"
      ]
     },
     "execution_count": 84,
     "metadata": {},
     "output_type": "execute_result"
    }
   ],
   "source": [
    "xgbt=XGBClassifier(\n",
    " learning_rate =0.1,\n",
    " n_estimators=1000,\n",
    " max_depth=5,\n",
    " min_child_weight=1,\n",
    " gamma=0,\n",
    " subsample=0.8,\n",
    " colsample_bytree=0.8,\n",
    " objective= 'binary:logistic',\n",
    " nthread=4,\n",
    " scale_pos_weight=1,\n",
    " seed=27)\n",
    "xgbt.fit(x_train,y_train)"
   ]
  },
  {
   "cell_type": "code",
   "execution_count": 86,
   "id": "94776b93",
   "metadata": {},
   "outputs": [
    {
     "data": {
      "text/plain": [
       "0.85"
      ]
     },
     "execution_count": 86,
     "metadata": {},
     "output_type": "execute_result"
    }
   ],
   "source": [
    "y_pred=xgbt.predict(x_test)\n",
    "round(accuracy_score(y_test,y_pred),2)"
   ]
  },
  {
   "cell_type": "markdown",
   "id": "9908f9f2",
   "metadata": {},
   "source": [
    "#### Findings:\n",
    "\n",
    "- After fine tuning of XGBoost model, we got an accuracy of 86%.\n",
    "- We can go with same model for predcition of winner in online chess game, white or black or draw\n"
   ]
  },
  {
   "cell_type": "code",
   "execution_count": null,
   "id": "4bcd8bde",
   "metadata": {},
   "outputs": [],
   "source": []
  }
 ],
 "metadata": {
  "kernelspec": {
   "display_name": "Python 3",
   "language": "python",
   "name": "python3"
  },
  "language_info": {
   "codemirror_mode": {
    "name": "ipython",
    "version": 3
   },
   "file_extension": ".py",
   "mimetype": "text/x-python",
   "name": "python",
   "nbconvert_exporter": "python",
   "pygments_lexer": "ipython3",
   "version": "3.8.8"
  }
 },
 "nbformat": 4,
 "nbformat_minor": 5
}
